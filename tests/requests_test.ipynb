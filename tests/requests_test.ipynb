{
 "cells": [
  {
   "cell_type": "markdown",
   "metadata": {},
   "source": [
    "# Requests_test\n"
   ]
  },
  {
   "cell_type": "code",
   "execution_count": 28,
   "metadata": {},
   "outputs": [
    {
     "name": "stdout",
     "output_type": "stream",
     "text": [
      "google.com/search\n",
      "google.com/about\n"
     ]
    }
   ],
   "source": [
    "links = [\"google.com/search\", \"amazon.com\", \"google.com/about\"]\n",
    "for link in links:\n",
    "    if link.startswith(\"google.com\"):\n",
    "        print(link)"
   ]
  },
  {
   "cell_type": "code",
   "execution_count": 29,
   "metadata": {},
   "outputs": [],
   "source": [
    "import requests"
   ]
  },
  {
   "cell_type": "code",
   "execution_count": 30,
   "metadata": {},
   "outputs": [],
   "source": [
    "# Request Current Supply Demand Report\n",
    "r = requests.get('http://ets.aeso.ca/ets_web/ip/Market/Reports/CSDReportServlet')\n",
    "# print(r.text)"
   ]
  },
  {
   "cell_type": "code",
   "execution_count": 34,
   "metadata": {
    "scrolled": false
   },
   "outputs": [
    {
     "name": "stdout",
     "output_type": "stream",
     "text": [
      "12\n",
      "2057\n",
      "2121\n",
      "-1\n",
      "371\n",
      "2109\n",
      "4806\n",
      "-1\n",
      "<TABLE BORDER=\"1\" ALIGN=\"CENTER\">\r\n",
      "\t<TR>\r\n",
      "\t\t<TH WIDTH=\"125\">Date (HE)</TH>\r\n",
      "\t\t<TH>Forecast Pool Price</TH>\r\n",
      "\t\t<TH>Actual Posted Pool Price</TH>\r\n",
      "\t\t<TH>Day-Ahead Forecasted AIL</TH>\r\n",
      "\t\t<TH>Actual AIL</TH>\r\n",
      "\t\t<TH>Forecasted & Actual AIL Difference</TH>\t\t\r\n",
      "\t</TR>\r\n",
      "\r\n",
      "<TR><TD>06/13/2018 01</TD><TD>24.09</TD><TD>24.56</TD><TD>8,599</TD><TD>8,566</TD><TD>33</TD></TR>\n",
      "<TR><TD>06/13/2018 02</TD><TD>15.67</TD><TD>20.37</TD><TD>8,439</TD><TD>8,419</TD><TD>20</TD></TR>\n",
      "<TR><TD>06/13/2018 03</TD><TD>24.25</TD><TD>23.96</TD><TD>8,345</TD><TD>8,373</TD><TD>-28</TD></TR>\n",
      "<TR><TD>06/13/2018 04</TD><TD>21.71</TD><TD>21.87</TD><TD>8,310</TD><TD>8,341</TD><TD>-31</TD></TR>\n",
      "<TR><TD>06/13/2018 05</TD><TD>25.10</TD><TD>26.23</TD><TD>8,336</TD><TD>8,432</TD><TD>-96</TD></TR>\n",
      "<TR><TD>06/13/2018 06</TD><TD>27.18</TD><TD>27.16</TD><TD>8,321</TD><TD>8,454</TD><TD>-133</TD></TR>\n",
      "<TR><TD>06/13/2018 07</TD><TD>29.30</TD><TD>31.21</TD><TD>8,712</TD><TD>8,776</TD><TD>-64</TD></TR>\n",
      "<TR><TD>06/13/2018 08</TD><TD>31.58</TD><TD>32.34</TD><TD>9,085</TD><TD>9,182</TD><TD>-97</TD></TR>\n",
      "<TR><TD>06/13/2018 09</TD><TD>39.40</TD><TD>39.69</TD><TD>9,320</TD><TD>9,420</TD><TD>-100</TD></TR>\n",
      "<TR><TD>06/13/2018 10</TD><TD>33.26</TD><TD>32.32</TD><TD>9,479</TD><TD>9,600</TD><TD>-121</TD></TR>\n",
      "<TR><TD>06/13/2018 11</TD><TD>31.74</TD><TD>31.73</TD><TD>9,595</TD><TD>9,695</TD><TD>-100</TD></TR>\n",
      "<TR><TD>06/13/2018 12</TD><TD>31.74</TD><TD>31.74</TD><TD>9,669</TD><TD>9,751</TD><TD>-82</TD></TR>\n",
      "<TR><TD>06/13/2018 13</TD><TD>32.23</TD><TD>32.57</TD><TD>9,688</TD><TD>9,783</TD><TD>-95</TD></TR>\n",
      "<TR><TD>06/13/2018 14</TD><TD>33.26</TD><TD>32.80</TD><TD>9,721</TD><TD>9,898</TD><TD>-177</TD></TR>\n",
      "<TR><TD>06/13/2018 15</TD><TD>33.25</TD><TD>32.94</TD><TD>9,720</TD><TD>9,919</TD><TD>-199</TD></TR>\n",
      "<TR><TD>06/13/2018 16</TD><TD>33.26</TD><TD>33.26</TD><TD>9,725</TD><TD>9,995</TD><TD>-270</TD></TR>\n",
      "<TR><TD>06/13/2018 17</TD><TD>33.26</TD><TD>33.26</TD><TD>9,716</TD><TD>10,102</TD><TD>-386</TD></TR>\n",
      "<TR><TD>06/13/2018 18</TD><TD>32.83</TD><TD>32.42</TD><TD>9,701</TD><TD>10,035</TD><TD>-334</TD></TR>\n",
      "<TR><TD>06/13/2018 19</TD><TD>31.33</TD><TD>31.41</TD><TD>9,515</TD><TD>9,827</TD><TD>-312</TD></TR>\n",
      "<TR><TD>06/13/2018 20</TD><TD>33.21</TD><TD>29.80</TD><TD>9,411</TD><TD>9,602</TD><TD>-191</TD></TR>\n",
      "<TR><TD>06/13/2018 21</TD><TD>26.30</TD><TD>26.88</TD><TD>9,319</TD><TD>9,441</TD><TD>-122</TD></TR>\n",
      "<TR><TD>06/13/2018 22</TD><TD>26.85</TD><TD>26.39</TD><TD>9,194</TD><TD>9,393</TD><TD>-199</TD></TR>\n",
      "<TR><TD>06/13/2018 23</TD><TD>27.19</TD><TD>27.18</TD><TD>9,117</TD><TD>9,236</TD><TD>-119</TD></TR>\n",
      "<TR><TD>06/13/2018 24</TD><TD>27.09</TD><TD>29.72</TD><TD>8,780</TD><TD>8,919</TD><TD>-139</TD></TR>\n",
      "\r\n",
      "\r\n",
      "\r\n",
      "\n"
     ]
    }
   ],
   "source": [
    "# http://ets.aeso.ca/ets_web/ip/Market/Reports/ActualForecastWMRQHReportServlet?beginDate=06132018&endDate=06142018&contentType=html\n",
    "payload = {'beginDate': '06132018', 'endDate': '06142018', 'contentType' : 'html'}\n",
    "req = requests.get('http://ets.aeso.ca/ets_web/ip/Market/Reports/ActualForecastWMRQHReportServlet', params=payload)\n",
    "# print(req.url)\n",
    "# print(req.text)\n",
    "\n",
    "index = 0\n",
    "position = req.text.find(\"<TABLE\", index)\n",
    "\n",
    "while position != -1:\n",
    "    position = req.text.find(\"<TABLE\", index)\n",
    "    print(position)\n",
    "    index = position + 1\n",
    "    \n",
    "index1 = 0\n",
    "position1 = position = req.text.find(\"</TABLE\", index)\n",
    "\n",
    "while position != -1:\n",
    "    position = req.text.find(\"</TABLE\", index)\n",
    "    print(position)\n",
    "    index = position + 1\n",
    "    \n",
    "substring = req.text[2121:4806]\n",
    "print(substring)\n",
    "\n",
    "dic = {}\n",
    "dic['key']='whatever'"
   ]
  },
  {
   "cell_type": "code",
   "execution_count": null,
   "metadata": {},
   "outputs": [],
   "source": []
  }
 ],
 "metadata": {
  "kernelspec": {
   "display_name": "Python 3",
   "language": "python",
   "name": "python3"
  },
  "language_info": {
   "codemirror_mode": {
    "name": "ipython",
    "version": 3
   },
   "file_extension": ".py",
   "mimetype": "text/x-python",
   "name": "python",
   "nbconvert_exporter": "python",
   "pygments_lexer": "ipython3",
   "version": "3.5.5"
  }
 },
 "nbformat": 4,
 "nbformat_minor": 1
}
