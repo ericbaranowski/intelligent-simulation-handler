{
 "cells": [
  {
   "cell_type": "markdown",
   "metadata": {},
   "source": [
    "# Use Case: Resistance Dominant Lines\n",
    "\n",
    "Developed by Mike Bardwell. University of Alberta. 2018"
   ]
  },
  {
   "cell_type": "code",
   "execution_count": 1,
   "metadata": {},
   "outputs": [
    {
     "name": "stderr",
     "output_type": "stream",
     "text": [
      "Using TensorFlow backend.\n",
      "C:\\Users\\mikey\\Anaconda3\\envs\\microgrid_workcomp\\lib\\importlib\\_bootstrap.py:222: RuntimeWarning: numpy.dtype size changed, may indicate binary incompatibility. Expected 96, got 88\n",
      "  return f(*args, **kwds)\n",
      "C:\\Users\\mikey\\Anaconda3\\envs\\microgrid_workcomp\\lib\\importlib\\_bootstrap.py:222: RuntimeWarning: numpy.dtype size changed, may indicate binary incompatibility. Expected 96, got 88\n",
      "  return f(*args, **kwds)\n"
     ]
    }
   ],
   "source": [
    "import keras\n",
    "from keras.models import model_from_json\n",
    "import numpy as np\n",
    "import matplotlib.pyplot as plt\n",
    "import time\n",
    "\n",
    "import sys; sys.path.append('../'); sys.path.append('../../'); sys.path.append('../utils')\n",
    "from powerflowsim import PowerFlowSim\n",
    "from montecarlo import generateJson\n",
    "from regression_tools import TrainANN, TrainRNN, NormalEquation"
   ]
  },
  {
   "cell_type": "markdown",
   "metadata": {},
   "source": [
    "# Power System Load Flow"
   ]
  },
  {
   "cell_type": "code",
   "execution_count": 2,
   "metadata": {},
   "outputs": [],
   "source": [
    "# model filename\n",
    "topology = 'radial'\n",
    "number_of_houses = 10000\n",
    "number_of_timestamps = 4999\n",
    "r = 0.001\n",
    "x = 0.001\n",
    "usecase = '_Rdominantlines'\n",
    "model_name = topology + '_' + str(number_of_houses) + 'houses_' + str(number_of_timestamps) + 'timestamps' + usecase"
   ]
  },
  {
   "cell_type": "code",
   "execution_count": 3,
   "metadata": {},
   "outputs": [],
   "source": [
    "# Ensure JSON file is available\n",
    "timestamp_start = time.time()\n",
    "generateJson(number_of_houses, 'mikework', False)"
   ]
  },
  {
   "cell_type": "code",
   "execution_count": 4,
   "metadata": {},
   "outputs": [],
   "source": [
    "# Initialise power flow sim\n",
    "pfs = PowerFlowSim(number_of_timestamps, \n",
    "                   topology,  \n",
    "                   '../_configs/montecarlo' + str(number_of_houses) + '.json')"
   ]
  },
  {
   "cell_type": "code",
   "execution_count": 5,
   "metadata": {},
   "outputs": [
    {
     "name": "stderr",
     "output_type": "stream",
     "text": [
      "C:\\Users\\mikey\\Anaconda3\\envs\\microgrid_workcomp\\lib\\site-packages\\pypsa\\components.py:758: FutureWarning: Sorting because non-concatenation axis is not aligned. A future version\n",
      "of pandas will change to not sort by default.\n",
      "\n",
      "To accept the future behavior, pass 'sort=False'.\n",
      "\n",
      "To retain the current behavior and silence the warning, pass 'sort=True'.\n",
      "\n",
      "  keys=self.passive_branch_components)\n"
     ]
    },
    {
     "name": "stdout",
     "output_type": "stream",
     "text": [
      "2889.9526937007904\n"
     ]
    }
   ],
   "source": [
    "# Similar to nrPFSim\n",
    "pfs.setupBuses()\n",
    "pfs.setupGenerators()\n",
    "pfs.setupLoads()\n",
    "pfs.setupLines(rlines = r, xlines = x)\n",
    "\n",
    "pfs.network.pf() # non-linear Newton Raphson power flow\n",
    "\n",
    "showall = False\n",
    "if showall:\n",
    "    pfs.plotLoads()\n",
    "    pfs.plotGenerators()\n",
    "    pfs.plotNodeVoltages()\n",
    "    pfs.plotLineLoading()\n",
    "    pfs.boxPlots()\n",
    "\n",
    "pfs.toArrays(True, True)\n",
    "\n",
    "timestamp_end = time.time()\n",
    "print(timestamp_end - timestamp_start)"
   ]
  },
  {
   "cell_type": "code",
   "execution_count": 6,
   "metadata": {},
   "outputs": [
    {
     "name": "stdout",
     "output_type": "stream",
     "text": [
      "(4999, 10000) (4999, 10000)\n"
     ]
    }
   ],
   "source": [
    "# prepare load profiles\n",
    "load_profile = []\n",
    "for agent in pfs.sim.participants:\n",
    "    if agent.devices['load'] == None:\n",
    "        continue\n",
    "    else:\n",
    "        load_profile.append(agent.devices['load'].offline_profile['profile'])\n",
    "load_profile = np.array(load_profile).T\n",
    "\n",
    "print(pfs.nodeloads.shape, pfs.nodevoltages.shape)"
   ]
  },
  {
   "cell_type": "markdown",
   "metadata": {},
   "source": [
    "# Normal Equation"
   ]
  },
  {
   "cell_type": "code",
   "execution_count": 7,
   "metadata": {},
   "outputs": [
    {
     "name": "stdout",
     "output_type": "stream",
     "text": [
      "normal equation mse: 17339550287008.365, mae: 671.631739844594\n",
      "357.0370225906372\n"
     ]
    }
   ],
   "source": [
    "start = time.time()\n",
    "ne = NormalEquation(pfs.nodeloads, pfs.nodevoltages)\n",
    "ne.calculateTheta()\n",
    "ne.calculateBias()\n",
    "ne.evaluateModel()\n",
    "end = time.time()\n",
    "print(end - start)"
   ]
  },
  {
   "cell_type": "markdown",
   "metadata": {},
   "source": [
    "# Machine Learning"
   ]
  },
  {
   "cell_type": "markdown",
   "metadata": {},
   "source": [
    "## RNN"
   ]
  },
  {
   "cell_type": "code",
   "execution_count": 8,
   "metadata": {},
   "outputs": [],
   "source": [
    "# start = time.time()\n",
    "# rnn = TrainRNN(pfs.nodeloads, pfs.nodevoltages)\n",
    "# rnn.buildModel()\n",
    "# rnn.trainModel()\n",
    "# rnn.evaluateModel()\n",
    "# end = time.time()\n",
    "# print(end - start)"
   ]
  },
  {
   "cell_type": "markdown",
   "metadata": {},
   "source": [
    "## DNN"
   ]
  },
  {
   "cell_type": "code",
   "execution_count": 9,
   "metadata": {},
   "outputs": [],
   "source": [
    "repeat = False"
   ]
  },
  {
   "cell_type": "code",
   "execution_count": 10,
   "metadata": {},
   "outputs": [
    {
     "name": "stdout",
     "output_type": "stream",
     "text": [
      "ANN regression loss: 6.477158985695178e-08, mae: 0.00013062590333696653\n"
     ]
    },
    {
     "data": {
      "image/png": "[encoded data removed]",
      "text/plain": [
       "<Figure size 432x288 with 1 Axes>"
      ]
     },
     "metadata": {},
     "output_type": "display_data"
    },
    {
     "ename": "KeyboardInterrupt",
     "evalue": "",
     "output_type": "error",
     "traceback": [
      "\u001b[1;31m---------------------------------------------------------------------------\u001b[0m",
      "\u001b[1;31mKeyboardInterrupt\u001b[0m                         Traceback (most recent call last)",
      "\u001b[1;32m<ipython-input-10-e2aa5f56ccc8>\u001b[0m in \u001b[0;36m<module>\u001b[1;34m()\u001b[0m\n\u001b[0;32m     14\u001b[0m     \u001b[0mann\u001b[0m\u001b[1;33m.\u001b[0m\u001b[0mtrainModel\u001b[0m\u001b[1;33m(\u001b[0m\u001b[1;33m)\u001b[0m\u001b[1;33m\u001b[0m\u001b[0m\n\u001b[0;32m     15\u001b[0m     \u001b[0mann\u001b[0m\u001b[1;33m.\u001b[0m\u001b[0mevaluateModel\u001b[0m\u001b[1;33m(\u001b[0m\u001b[1;33m)\u001b[0m\u001b[1;33m\u001b[0m\u001b[0m\n\u001b[1;32m---> 16\u001b[1;33m     \u001b[0mann\u001b[0m\u001b[1;33m.\u001b[0m\u001b[0mpredictWithModel\u001b[0m\u001b[1;33m(\u001b[0m\u001b[1;33m)\u001b[0m\u001b[1;33m\u001b[0m\u001b[0m\n\u001b[0m\u001b[0;32m     17\u001b[0m     \u001b[0mrepeat\u001b[0m \u001b[1;33m=\u001b[0m \u001b[1;32mTrue\u001b[0m\u001b[1;33m;\u001b[0m \u001b[0mcount\u001b[0m \u001b[1;33m=\u001b[0m \u001b[1;36m1\u001b[0m\u001b[1;33m\u001b[0m\u001b[0m\n\u001b[0;32m     18\u001b[0m     \u001b[0mend\u001b[0m \u001b[1;33m=\u001b[0m \u001b[0mtime\u001b[0m\u001b[1;33m.\u001b[0m\u001b[0mtime\u001b[0m\u001b[1;33m(\u001b[0m\u001b[1;33m)\u001b[0m\u001b[1;33m\u001b[0m\u001b[0m\n",
      "\u001b[1;32m~\\Documents\\etx_fullscale_mike\\pypsa_test\\utils\\regression_tools.py\u001b[0m in \u001b[0;36mpredictWithModel\u001b[1;34m(self, plot_results)\u001b[0m\n\u001b[0;32m     88\u001b[0m \u001b[1;33m\u001b[0m\u001b[0m\n\u001b[0;32m     89\u001b[0m             \u001b[1;32mfor\u001b[0m \u001b[0mi\u001b[0m \u001b[1;32min\u001b[0m \u001b[0mrange\u001b[0m\u001b[1;33m(\u001b[0m\u001b[0mlen\u001b[0m\u001b[1;33m(\u001b[0m\u001b[0merror\u001b[0m\u001b[1;33m[\u001b[0m\u001b[1;36m0\u001b[0m\u001b[1;33m]\u001b[0m\u001b[1;33m)\u001b[0m\u001b[1;33m)\u001b[0m\u001b[1;33m:\u001b[0m\u001b[1;33m\u001b[0m\u001b[0m\n\u001b[1;32m---> 90\u001b[1;33m                 \u001b[0mplt\u001b[0m\u001b[1;33m.\u001b[0m\u001b[0mhist\u001b[0m\u001b[1;33m(\u001b[0m\u001b[0merror\u001b[0m\u001b[1;33m.\u001b[0m\u001b[0mT\u001b[0m\u001b[1;33m[\u001b[0m\u001b[0mi\u001b[0m\u001b[1;33m]\u001b[0m\u001b[1;33m,\u001b[0m \u001b[0mbins\u001b[0m \u001b[1;33m=\u001b[0m \u001b[1;36m50\u001b[0m\u001b[1;33m)\u001b[0m\u001b[1;33m\u001b[0m\u001b[0m\n\u001b[0m\u001b[0;32m     91\u001b[0m             \u001b[0mplt\u001b[0m\u001b[1;33m.\u001b[0m\u001b[0mxlabel\u001b[0m\u001b[1;33m(\u001b[0m\u001b[1;34m\"Prediction Error\"\u001b[0m\u001b[1;33m)\u001b[0m\u001b[1;33m\u001b[0m\u001b[0m\n\u001b[0;32m     92\u001b[0m             \u001b[0mplt\u001b[0m\u001b[1;33m.\u001b[0m\u001b[0mylabel\u001b[0m\u001b[1;33m(\u001b[0m\u001b[1;34m\"Count\"\u001b[0m\u001b[1;33m)\u001b[0m\u001b[1;33m\u001b[0m\u001b[0m\n",
      "\u001b[1;32m~\\Anaconda3\\envs\\microgrid_workcomp\\lib\\site-packages\\matplotlib\\pyplot.py\u001b[0m in \u001b[0;36mhist\u001b[1;34m(x, bins, range, density, weights, cumulative, bottom, histtype, align, orientation, rwidth, log, color, label, stacked, normed, hold, data, **kwargs)\u001b[0m\n\u001b[0;32m   3135\u001b[0m                       \u001b[0mhisttype\u001b[0m\u001b[1;33m=\u001b[0m\u001b[0mhisttype\u001b[0m\u001b[1;33m,\u001b[0m \u001b[0malign\u001b[0m\u001b[1;33m=\u001b[0m\u001b[0malign\u001b[0m\u001b[1;33m,\u001b[0m \u001b[0morientation\u001b[0m\u001b[1;33m=\u001b[0m\u001b[0morientation\u001b[0m\u001b[1;33m,\u001b[0m\u001b[1;33m\u001b[0m\u001b[0m\n\u001b[0;32m   3136\u001b[0m                       \u001b[0mrwidth\u001b[0m\u001b[1;33m=\u001b[0m\u001b[0mrwidth\u001b[0m\u001b[1;33m,\u001b[0m \u001b[0mlog\u001b[0m\u001b[1;33m=\u001b[0m\u001b[0mlog\u001b[0m\u001b[1;33m,\u001b[0m \u001b[0mcolor\u001b[0m\u001b[1;33m=\u001b[0m\u001b[0mcolor\u001b[0m\u001b[1;33m,\u001b[0m \u001b[0mlabel\u001b[0m\u001b[1;33m=\u001b[0m\u001b[0mlabel\u001b[0m\u001b[1;33m,\u001b[0m\u001b[1;33m\u001b[0m\u001b[0m\n\u001b[1;32m-> 3137\u001b[1;33m                       stacked=stacked, normed=normed, data=data, **kwargs)\n\u001b[0m\u001b[0;32m   3138\u001b[0m     \u001b[1;32mfinally\u001b[0m\u001b[1;33m:\u001b[0m\u001b[1;33m\u001b[0m\u001b[0m\n\u001b[0;32m   3139\u001b[0m         \u001b[0max\u001b[0m\u001b[1;33m.\u001b[0m\u001b[0m_hold\u001b[0m \u001b[1;33m=\u001b[0m \u001b[0mwashold\u001b[0m\u001b[1;33m\u001b[0m\u001b[0m\n",
      "\u001b[1;32m~\\Anaconda3\\envs\\microgrid_workcomp\\lib\\site-packages\\matplotlib\\__init__.py\u001b[0m in \u001b[0;36minner\u001b[1;34m(ax, *args, **kwargs)\u001b[0m\n\u001b[0;32m   1865\u001b[0m                         \u001b[1;34m\"the Matplotlib list!)\"\u001b[0m \u001b[1;33m%\u001b[0m \u001b[1;33m(\u001b[0m\u001b[0mlabel_namer\u001b[0m\u001b[1;33m,\u001b[0m \u001b[0mfunc\u001b[0m\u001b[1;33m.\u001b[0m\u001b[0m__name__\u001b[0m\u001b[1;33m)\u001b[0m\u001b[1;33m,\u001b[0m\u001b[1;33m\u001b[0m\u001b[0m\n\u001b[0;32m   1866\u001b[0m                         RuntimeWarning, stacklevel=2)\n\u001b[1;32m-> 1867\u001b[1;33m             \u001b[1;32mreturn\u001b[0m \u001b[0mfunc\u001b[0m\u001b[1;33m(\u001b[0m\u001b[0max\u001b[0m\u001b[1;33m,\u001b[0m \u001b[1;33m*\u001b[0m\u001b[0margs\u001b[0m\u001b[1;33m,\u001b[0m \u001b[1;33m**\u001b[0m\u001b[0mkwargs\u001b[0m\u001b[1;33m)\u001b[0m\u001b[1;33m\u001b[0m\u001b[0m\n\u001b[0m\u001b[0;32m   1868\u001b[0m \u001b[1;33m\u001b[0m\u001b[0m\n\u001b[0;32m   1869\u001b[0m         inner.__doc__ = _add_data_doc(inner.__doc__,\n",
      "\u001b[1;32m~\\Anaconda3\\envs\\microgrid_workcomp\\lib\\site-packages\\matplotlib\\axes\\_axes.py\u001b[0m in \u001b[0;36mhist\u001b[1;34m(***failed resolving arguments***)\u001b[0m\n\u001b[0;32m   6813\u001b[0m         \u001b[0mself\u001b[0m\u001b[1;33m.\u001b[0m\u001b[0mset_autoscalex_on\u001b[0m\u001b[1;33m(\u001b[0m\u001b[0m_saved_autoscalex\u001b[0m\u001b[1;33m)\u001b[0m\u001b[1;33m\u001b[0m\u001b[0m\n\u001b[0;32m   6814\u001b[0m         \u001b[0mself\u001b[0m\u001b[1;33m.\u001b[0m\u001b[0mset_autoscaley_on\u001b[0m\u001b[1;33m(\u001b[0m\u001b[0m_saved_autoscaley\u001b[0m\u001b[1;33m)\u001b[0m\u001b[1;33m\u001b[0m\u001b[0m\n\u001b[1;32m-> 6815\u001b[1;33m         \u001b[0mself\u001b[0m\u001b[1;33m.\u001b[0m\u001b[0mautoscale_view\u001b[0m\u001b[1;33m(\u001b[0m\u001b[1;33m)\u001b[0m\u001b[1;33m\u001b[0m\u001b[0m\n\u001b[0m\u001b[0;32m   6816\u001b[0m \u001b[1;33m\u001b[0m\u001b[0m\n\u001b[0;32m   6817\u001b[0m         \u001b[1;32mif\u001b[0m \u001b[0mlabel\u001b[0m \u001b[1;32mis\u001b[0m \u001b[1;32mNone\u001b[0m\u001b[1;33m:\u001b[0m\u001b[1;33m\u001b[0m\u001b[0m\n",
      "\u001b[1;32m~\\Anaconda3\\envs\\microgrid_workcomp\\lib\\site-packages\\matplotlib\\axes\\_base.py\u001b[0m in \u001b[0;36mautoscale_view\u001b[1;34m(self, tight, scalex, scaley)\u001b[0m\n\u001b[0;32m   2477\u001b[0m             \u001b[0mx_stickies\u001b[0m \u001b[1;33m=\u001b[0m \u001b[0msum\u001b[0m\u001b[1;33m(\u001b[0m\u001b[1;33m[\u001b[0m\u001b[0msticky\u001b[0m\u001b[1;33m.\u001b[0m\u001b[0mx\u001b[0m \u001b[1;32mfor\u001b[0m \u001b[0msticky\u001b[0m \u001b[1;32min\u001b[0m \u001b[0mstickies\u001b[0m\u001b[1;33m]\u001b[0m\u001b[1;33m,\u001b[0m \u001b[1;33m[\u001b[0m\u001b[1;33m]\u001b[0m\u001b[1;33m)\u001b[0m\u001b[1;33m\u001b[0m\u001b[0m\n\u001b[0;32m   2478\u001b[0m             \u001b[0my_stickies\u001b[0m \u001b[1;33m=\u001b[0m \u001b[0msum\u001b[0m\u001b[1;33m(\u001b[0m\u001b[1;33m[\u001b[0m\u001b[0msticky\u001b[0m\u001b[1;33m.\u001b[0m\u001b[0my\u001b[0m \u001b[1;32mfor\u001b[0m \u001b[0msticky\u001b[0m \u001b[1;32min\u001b[0m \u001b[0mstickies\u001b[0m\u001b[1;33m]\u001b[0m\u001b[1;33m,\u001b[0m \u001b[1;33m[\u001b[0m\u001b[1;33m]\u001b[0m\u001b[1;33m)\u001b[0m\u001b[1;33m\u001b[0m\u001b[0m\n\u001b[1;32m-> 2479\u001b[1;33m             \u001b[1;32mif\u001b[0m \u001b[0mself\u001b[0m\u001b[1;33m.\u001b[0m\u001b[0mget_xscale\u001b[0m\u001b[1;33m(\u001b[0m\u001b[1;33m)\u001b[0m\u001b[1;33m.\u001b[0m\u001b[0mlower\u001b[0m\u001b[1;33m(\u001b[0m\u001b[1;33m)\u001b[0m \u001b[1;33m==\u001b[0m \u001b[1;34m'log'\u001b[0m\u001b[1;33m:\u001b[0m\u001b[1;33m\u001b[0m\u001b[0m\n\u001b[0m\u001b[0;32m   2480\u001b[0m                 \u001b[0mx_stickies\u001b[0m \u001b[1;33m=\u001b[0m \u001b[1;33m[\u001b[0m\u001b[0mxs\u001b[0m \u001b[1;32mfor\u001b[0m \u001b[0mxs\u001b[0m \u001b[1;32min\u001b[0m \u001b[0mx_stickies\u001b[0m \u001b[1;32mif\u001b[0m \u001b[0mxs\u001b[0m \u001b[1;33m>\u001b[0m \u001b[1;36m0\u001b[0m\u001b[1;33m]\u001b[0m\u001b[1;33m\u001b[0m\u001b[0m\n\u001b[0;32m   2481\u001b[0m             \u001b[1;32mif\u001b[0m \u001b[0mself\u001b[0m\u001b[1;33m.\u001b[0m\u001b[0mget_yscale\u001b[0m\u001b[1;33m(\u001b[0m\u001b[1;33m)\u001b[0m\u001b[1;33m.\u001b[0m\u001b[0mlower\u001b[0m\u001b[1;33m(\u001b[0m\u001b[1;33m)\u001b[0m \u001b[1;33m==\u001b[0m \u001b[1;34m'log'\u001b[0m\u001b[1;33m:\u001b[0m\u001b[1;33m\u001b[0m\u001b[0m\n",
      "\u001b[1;31mKeyboardInterrupt\u001b[0m: "
     ]
    },
    {
     "data": {
      "image/png": "[encoded data removed]",
      "text/plain": [
       "<Figure size 432x288 with 1 Axes>"
      ]
     },
     "metadata": {},
     "output_type": "display_data"
    }
   ],
   "source": [
    "# ANN function mapping\n",
    "trainpercentage = 0.7\n",
    "\n",
    "if repeat:\n",
    "    ann.trainModel()\n",
    "    ann.evaluateModel()\n",
    "    ann.predictWithModel()\n",
    "    count += 1\n",
    "    print('Trained {} times'.format(count))\n",
    "else:\n",
    "    start = time.time()\n",
    "    ann = TrainANN(pfs.nodeloads, pfs.nodevoltages, trainpercentage)\n",
    "    ann.buildModel()\n",
    "    ann.trainModel()\n",
    "    ann.evaluateModel()\n",
    "    ann.predictWithModel()\n",
    "    repeat = True; count = 1\n",
    "    end = time.time()\n",
    "    print(end - start)\n",
    "    \n",
    "filename = topology + '_' + str(number_of_houses) + 'houses_' + str(number_of_timestamps) + 'timestamps' + usecase\n",
    "\n",
    "ann.saveModel(filename)\n",
    "print('saved filename: {}'.format(filename))"
   ]
  },
  {
   "cell_type": "markdown",
   "metadata": {},
   "source": [
    "# Comparing PSLF, ANN, NE"
   ]
  },
  {
   "cell_type": "code",
   "execution_count": null,
   "metadata": {},
   "outputs": [],
   "source": [
    "plotting_timestamps = 25\n",
    "x_axis = [i for i in range(plotting_timestamps)]\n",
    "\n",
    "\n",
    "# Load profile\n",
    "\n",
    "fig=plt.figure(figsize=(18, 16), dpi= 80, facecolor='w', edgecolor='k') # resize subplots for readability\n",
    "from pylab import *\n",
    "import math\n",
    "for i in range(number_of_houses):\n",
    "    side_length = math.ceil(np.sqrt(number_of_houses))\n",
    "    subplot(side_length, side_length, i+1)\n",
    "    title('Load at Node ' + str(i))\n",
    "    plot(x_axis, load_profile.T[i][0:plotting_timestamps])"
   ]
  },
  {
   "cell_type": "code",
   "execution_count": null,
   "metadata": {},
   "outputs": [],
   "source": [
    "def accessPSLFVoltages(node, pfs, number_of_timestamps):\n",
    "    \"\"\"\n",
    "    :type node: int, pfs: PowerFlowSim class\n",
    "    :rtype np.array of voltage values for node\n",
    "    \"\"\"\n",
    "    name = pfs.network.buses_t['v_mag_pu'].keys()[node]\n",
    "    return pfs.network.buses_t.v_mag_pu[name][0:number_of_timestamps]\n",
    "\n",
    "def accessNEVoltages(node, load_profile, number_of_timestamps):\n",
    "    \"\"\"\n",
    "    :type: node: int, model: numpy array, load_profile: numpy array, number_of_timestamps: int\n",
    "    :rtype: np.array of voltage values for node\n",
    "    \"\"\"\n",
    "    predictions = ne.predictWithModel(load_profile)\n",
    "    if node == 0:\n",
    "        return np.ones(number_of_timestamps)\n",
    "    else:\n",
    "        return predictions.T[node][0:number_of_timestamps]\n",
    "\n",
    "def accessANNVoltages(node, model, load_profile, number_of_timestamps):\n",
    "    \"\"\"\n",
    "    :type node: int, model: Keras model, load_profile: numpy array, number_of_timestamps: int\n",
    "    :rtype np.array of voltage values for node\n",
    "    \"\"\"\n",
    "    predictions = model.predict(load_profile)\n",
    "    if node == 0:\n",
    "        return np.ones(number_of_timestamps)\n",
    "    else:\n",
    "        return predictions.T[node][0:number_of_timestamps]"
   ]
  },
  {
   "cell_type": "code",
   "execution_count": null,
   "metadata": {},
   "outputs": [],
   "source": [
    "# Voltage Subplots\n",
    "\n",
    "fig=plt.figure(figsize=(18, 16), dpi= 80, facecolor='w', edgecolor='k') # resize subplots for readability\n",
    "\n",
    "for i in range(number_of_houses):\n",
    "    side_length = math.ceil(np.sqrt(number_of_houses))\n",
    "    ax1 = subplot(side_length, side_length, i+1)\n",
    "    ax2 = ax1.twinx()\n",
    "    ax1.plot(x_axis, accessNEVoltages(i, load_profile, plotting_timestamps), 'b',\n",
    "             x_axis, accessANNVoltages(i, ann.model, load_profile, plotting_timestamps), 'r',\n",
    "             x_axis, accessPSLFVoltages(i, pfs, plotting_timestamps), 'g')\n",
    "    ax2.plot(x_axis, load_profile.T[i][0:plotting_timestamps], '--k')\n",
    "    ax1.legend(['NE Predicted Voltage', 'ANN Predicted Voltage', 'PSLF Calculated Voltage'])\n",
    "    ax2.legend(['Load Profile'])\n",
    "    ax1.set_title('Voltages at Node' + str(i))"
   ]
  },
  {
   "cell_type": "code",
   "execution_count": null,
   "metadata": {},
   "outputs": [],
   "source": [
    "# Voltage plot for saving\n",
    "plt.plot(x_axis, accessNEVoltages(1, load_profile, plotting_timestamps), 'ob',\n",
    "         x_axis, accessANNVoltages(1, ann.model, load_profile, plotting_timestamps), 'r', \n",
    "         x_axis, accessPSLFVoltages(1, pfs, plotting_timestamps), 'g') \n",
    "plt.xlabel('Timestamps')\n",
    "plt.ylabel('Node Voltages')\n",
    "plt.legend(['NE Predicted Voltage', 'ANN Predicted Voltage', 'PSLF Calculated Voltage'])\n",
    "\n",
    "from textwrap import wrap\n",
    "title = 'Predicted and Calculated Voltages at One Node in Line-Resistance Dominant Grid'\n",
    "plt.title('\\n'.join(wrap(title,50)))\n",
    "savetitle = 'usecase_' + str(number_of_houses) + 'houses_' + topology + usecase + 'grid.pdf'\n",
    "plt.savefig(savetitle, transparent = True)\n",
    "print('Saved as {}'.format(savetitle))\n",
    "\n",
    "plt.show()"
   ]
  },
  {
   "cell_type": "markdown",
   "metadata": {},
   "source": [
    "# Testing Against a Different Load Profile "
   ]
  },
  {
   "cell_type": "code",
   "execution_count": null,
   "metadata": {},
   "outputs": [],
   "source": [
    "# Initialise power flow sim\n",
    "pfs2 = PowerFlowSim(number_of_timestamps, \n",
    "                   topology,  \n",
    "                   '../_configs/7houses_landmarkdata.json')"
   ]
  },
  {
   "cell_type": "code",
   "execution_count": null,
   "metadata": {},
   "outputs": [],
   "source": [
    "# Similar to nrPFSim\n",
    "pfs2.setupBuses()\n",
    "pfs2.setupGenerators()\n",
    "pfs2.setupLoads()\n",
    "pfs2.setupLines(rlines = r, xlines = x)\n",
    "\n",
    "pfs2.network.pf() # non-linear Newton Raphson power flow\n",
    "\n",
    "showall = False\n",
    "if showall:\n",
    "    pfs2.plotLoads()\n",
    "    pfs2.plotGenerators()\n",
    "    pfs2.plotNodeVoltages()\n",
    "    pfs2.plotLineLoading()\n",
    "    pfs2.boxPlots()\n",
    "\n",
    "pfs2.toArrays(True, True)"
   ]
  },
  {
   "cell_type": "code",
   "execution_count": null,
   "metadata": {},
   "outputs": [],
   "source": [
    "# prepare load profiles\n",
    "load_profile2 = []\n",
    "for agent in pfs2.sim.participants:\n",
    "    if agent.devices['load'] == None:\n",
    "        continue\n",
    "    else:\n",
    "        load_profile2.append(agent.devices['load'].offline_profile['profile'])\n",
    "load_profile2 = np.array(load_profile2).T"
   ]
  },
  {
   "cell_type": "code",
   "execution_count": null,
   "metadata": {},
   "outputs": [],
   "source": [
    "# Voltage subplots on Landmark housing data\n",
    "\n",
    "fig=plt.figure(figsize=(18, 16), dpi= 80, facecolor='w', edgecolor='k') # resize subplots for readability\n",
    "\n",
    "for i in range(number_of_houses):\n",
    "    side_length = math.ceil(np.sqrt(number_of_houses))\n",
    "    ax1 = subplot(side_length, side_length, i+1)\n",
    "    ax2 = ax1.twinx()\n",
    "    ax1.plot(x_axis, accessNEVoltages(i, load_profile2, plotting_timestamps), 'b',\n",
    "             x_axis, accessANNVoltages(i, ann.model, load_profile2, plotting_timestamps), 'r',\n",
    "             x_axis, accessPSLFVoltages(i, pfs2, plotting_timestamps), 'g')\n",
    "    ax2.plot(x_axis, load_profile2.T[i][0:plotting_timestamps], '--k')\n",
    "    ax1.set_title('Voltages at Node' + str(i))\n",
    "    ax1.legend(['NE Predicted Voltage', 'ANN Predicted Voltage', 'PSLF Calculated Voltage'])"
   ]
  },
  {
   "cell_type": "code",
   "execution_count": null,
   "metadata": {},
   "outputs": [],
   "source": []
  }
 ],
 "metadata": {
  "kernelspec": {
   "display_name": "Python 3",
   "language": "python",
   "name": "python3"
  },
  "language_info": {
   "codemirror_mode": {
    "name": "ipython",
    "version": 3
   },
   "file_extension": ".py",
   "mimetype": "text/x-python",
   "name": "python",
   "nbconvert_exporter": "python",
   "pygments_lexer": "ipython3",
   "version": "3.5.5"
  }
 },
 "nbformat": 4,
 "nbformat_minor": 2
}
